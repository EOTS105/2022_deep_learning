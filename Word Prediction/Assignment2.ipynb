{
  "nbformat": 4,
  "nbformat_minor": 0,
  "metadata": {
    "colab": {
      "provenance": []
    },
    "language_info": {
      "name": "python"
    },
    "kernelspec": {
      "name": "python3",
      "display_name": "Python 3"
    }
  },
  "cells": [
    {
      "cell_type": "markdown",
      "metadata": {
        "id": "Cx3i2Op-6X5n"
      },
      "source": [
        "# Assignment 2: Word Prediction\n",
        "\n",
        "**Deadline**: Sunday, December 11th, by 8pm.\n",
        "\n",
        "**Submission**: Submit a PDF export of the completed notebook as well as the ipynb file. \n",
        "\n",
        " \n",
        "\n",
        "In this assignment, we will make a neural network that can predict the next word\n",
        "in a sentence given the previous three.  \n",
        "In doing this prediction task, our neural networks will learn about *words* and about\n",
        "how to represent words. We'll explore the *vector representations* of words that our\n",
        "model produces, and analyze these representations.\n",
        "\n",
        "You may modify the starter code as you see fit, including changing the signatures of functions and adding/removing helper functions. However, please make sure that you properly explain what you are doing and why."
      ]
    },
    {
      "cell_type": "code",
      "metadata": {
        "id": "2zdEvcdO6X5s"
      },
      "source": [
        "import pandas\n",
        "import numpy as np\n",
        "import matplotlib.pyplot as plt\n",
        "import collections\n",
        "\n",
        "import torch\n",
        "import torch.nn as nn\n",
        "import torch.optim as optim"
      ],
      "execution_count": null,
      "outputs": []
    },
    {
      "cell_type": "markdown",
      "metadata": {
        "id": "sQYtUQTH6X5t"
      },
      "source": [
        "## Question 1. Data (18%)\n",
        "\n",
        "With any machine learning problem, the first thing that we would want to do\n",
        "is to get an intuitive understanding of what our data looks like. Download the file\n",
        "`raw_sentences.txt` from the course page on Moodle and upload it to Google Drive.\n",
        "Then, mount Google Drive from your Google Colab notebook:"
      ]
    },
    {
      "cell_type": "code",
      "metadata": {
        "id": "9eWXHhCe6X5t",
        "colab": {
          "base_uri": "https://localhost:8080/"
        },
        "outputId": "0a33c5e7-f025-4a58-849d-006a11a1a4d4"
      },
      "source": [
        "from google.colab import drive\n",
        "drive.mount('/content/gdrive')"
      ],
      "execution_count": null,
      "outputs": [
        {
          "output_type": "stream",
          "name": "stdout",
          "text": [
            "Mounted at /content/gdrive\n"
          ]
        }
      ]
    },
    {
      "cell_type": "markdown",
      "metadata": {
        "id": "Hteg6bwv6X5t"
      },
      "source": [
        "Find the path to `raw_sentences.txt`:"
      ]
    },
    {
      "cell_type": "code",
      "metadata": {
        "id": "ALMsGfFi6X5u"
      },
      "source": [
        "file_path = '/content/gdrive/MyDrive/Colab Notebooks/raw_sentences.txt' "
      ],
      "execution_count": null,
      "outputs": []
    },
    {
      "cell_type": "markdown",
      "metadata": {
        "id": "PD5uXTle6X5u"
      },
      "source": [
        "The following code reads the sentences in our file, split each sentence into\n",
        "its individual words, and stores the sentences (list of words) in the\n",
        "variable `sentences`."
      ]
    },
    {
      "cell_type": "code",
      "metadata": {
        "id": "75NXJO_T6X5v"
      },
      "source": [
        "sentences = []\n",
        "for line in open(file_path):\n",
        "    words = line.split()\n",
        "    sentence = [word.lower() for word in words]\n",
        "    sentences.append(sentence)"
      ],
      "execution_count": null,
      "outputs": []
    },
    {
      "cell_type": "markdown",
      "metadata": {
        "id": "nbP0-e_U6X5v"
      },
      "source": [
        "There are 97,162 sentences in total, and \n",
        "these sentences are composed of 250 distinct words."
      ]
    },
    {
      "cell_type": "code",
      "metadata": {
        "id": "OLUp8rZT6X5v",
        "colab": {
          "base_uri": "https://localhost:8080/"
        },
        "outputId": "41165d36-eac9-4017-dacd-8de5643435ca"
      },
      "source": [
        "vocab = set([w for s in sentences for w in s])\n",
        "print(len(sentences)) # 97162\n",
        "print(len(vocab)) # 250"
      ],
      "execution_count": null,
      "outputs": [
        {
          "output_type": "stream",
          "name": "stdout",
          "text": [
            "97162\n",
            "250\n"
          ]
        }
      ]
    },
    {
      "cell_type": "markdown",
      "metadata": {
        "id": "KB77tJrU6X5v"
      },
      "source": [
        "We'll separate our data into training, validation, and test.\n",
        "We'll use `10,000 sentences for test, 10,000 for validation, and\n",
        "the rest for training."
      ]
    },
    {
      "cell_type": "code",
      "metadata": {
        "id": "xJQRB6RJ6X5v"
      },
      "source": [
        "test, valid, train = sentences[:10000], sentences[10000:20000], sentences[20000:]"
      ],
      "execution_count": null,
      "outputs": []
    },
    {
      "cell_type": "markdown",
      "metadata": {
        "id": "aUj7fsi06X5v"
      },
      "source": [
        "### Part (a) -- 3%\n",
        "\n",
        "**Display** 10 sentences in the training set.\n",
        "**Explain** how punctuations are treated in our word representation, and how words\n",
        "with apostrophes are represented."
      ]
    },
    {
      "cell_type": "code",
      "metadata": {
        "id": "90AmLcpF6X5w",
        "colab": {
          "base_uri": "https://localhost:8080/"
        },
        "outputId": "a1f3192b-d5db-4ab4-9a39-82111b1b5f51"
      },
      "source": [
        "for i in range(10,20):\n",
        "  print(f\"Sentence number {i-9}: \\n {train[i]}\")\n"
      ],
      "execution_count": null,
      "outputs": [
        {
          "output_type": "stream",
          "name": "stdout",
          "text": [
            "Sentence number 1: \n",
            " ['but', 'for', 'me', ',', 'now', ',', 'this', 'is', 'it', '.']\n",
            "Sentence number 2: \n",
            " ['she', \"'s\", 'still', 'there', 'for', 'us', '.']\n",
            "Sentence number 3: \n",
            " ['it', \"'s\", 'part', 'of', 'this', 'game', ',', 'man', '.']\n",
            "Sentence number 4: \n",
            " ['it', 'was', ':', 'how', 'do', 'we', 'get', 'there', '?']\n",
            "Sentence number 5: \n",
            " ['but', 'they', 'do', 'nt', 'last', 'too', 'long', '.']\n",
            "Sentence number 6: \n",
            " ['more', 'are', 'like', 'me', ',', 'she', 'said', '.']\n",
            "Sentence number 7: \n",
            " ['who', 'do', 'you', 'think', 'they', 'want', 'to', 'be', 'like', '?']\n",
            "Sentence number 8: \n",
            " ['no', ',', 'he', 'could', 'not', '.']\n",
            "Sentence number 9: \n",
            " ['so', 'i', 'left', 'it', 'up', 'to', 'them', '.']\n",
            "Sentence number 10: \n",
            " ['we', 'were', 'nt', 'right', '.']\n"
          ]
        }
      ]
    },
    {
      "cell_type": "markdown",
      "metadata": {
        "id": "swyMJHYN-Taa"
      },
      "source": [
        "Punctuations are treated as words in this word representation, since it gets\n",
        "its own place on the list. Also, words with apostrophes are treated as two \n",
        "different words. We can see that the words with apostrophes are cutted to \n",
        "two different word, after the punctuation mark (')."
      ]
    },
    {
      "cell_type": "markdown",
      "metadata": {
        "id": "R2erKpOJ6X5w"
      },
      "source": [
        "### Part (b) -- 4%\n",
        "\n",
        "**Print** the 10 most common words in the vocabulary and how often does each of these\n",
        "words appear in the training sentences. Express the second quantity as a percentage\n",
        "(i.e. number of occurences of the  word / total number of words in the training set).\n",
        "\n",
        "These are useful quantities to compute, because one of the first things a machine learning model will learn is to predict the **most common** class. Getting a sense of the\n",
        "distribution of our data will help you understand our model's behaviour.\n",
        "\n",
        "You can use Python's `collections.Counter` class if you would like to."
      ]
    },
    {
      "cell_type": "code",
      "metadata": {
        "id": "pqSZO_a36X5w",
        "colab": {
          "base_uri": "https://localhost:8080/"
        },
        "outputId": "46ac62ec-a21b-4ad1-b74e-d6738dc0b6b7"
      },
      "source": [
        "from collections import Counter\n",
        "words_list = [item for sublist in sentences for item in sublist]\n",
        "\n",
        "most_common_words= [word for word, word_count in Counter(words_list).most_common(10)]\n",
        "print(most_common_words)\n",
        "\n",
        "train_words_list = [item for sublist in train for item in sublist]\n",
        "count_train = Counter(train_words_list)\n",
        "for word in most_common_words:\n",
        "  print(f'The word: \"{word}\" appears {count_train[word]} times in the train data.')\n",
        "  print(f'That is {(count_train[word]/len(train_words_list)*100):.2f}% of the train words. \\n')"
      ],
      "execution_count": null,
      "outputs": [
        {
          "output_type": "stream",
          "name": "stdout",
          "text": [
            "['.', 'it', ',', 'i', 'do', 'to', 'nt', '?', 'the', 'that']\n",
            "The word: \".\" appears 64297 times in the train data.\n",
            "That is 10.70% of the train words. \n",
            "\n",
            "The word: \"it\" appears 23118 times in the train data.\n",
            "That is 3.85% of the train words. \n",
            "\n",
            "The word: \",\" appears 19537 times in the train data.\n",
            "That is 3.25% of the train words. \n",
            "\n",
            "The word: \"i\" appears 17684 times in the train data.\n",
            "That is 2.94% of the train words. \n",
            "\n",
            "The word: \"do\" appears 16181 times in the train data.\n",
            "That is 2.69% of the train words. \n",
            "\n",
            "The word: \"to\" appears 15490 times in the train data.\n",
            "That is 2.58% of the train words. \n",
            "\n",
            "The word: \"nt\" appears 13009 times in the train data.\n",
            "That is 2.16% of the train words. \n",
            "\n",
            "The word: \"?\" appears 12881 times in the train data.\n",
            "That is 2.14% of the train words. \n",
            "\n",
            "The word: \"the\" appears 12583 times in the train data.\n",
            "That is 2.09% of the train words. \n",
            "\n",
            "The word: \"that\" appears 12535 times in the train data.\n",
            "That is 2.09% of the train words. \n",
            "\n"
          ]
        }
      ]
    },
    {
      "cell_type": "markdown",
      "metadata": {
        "id": "j4CHlVRI6X5w"
      },
      "source": [
        "### Part (c) -- 11%\n",
        "\n",
        "Our neural network will take as input three words and predict the next one. Therefore, we need our data set to be comprised of seuqnces of four consecutive words in a sentence, referred to as *4grams*. \n",
        "\n",
        "**Complete** the helper functions `convert_words_to_indices` and\n",
        "`generate_4grams`, so that the function `process_data` will take a \n",
        "list of sentences (i.e. list of list of words), and generate an \n",
        "$N \\times 4$ numpy matrix containing indices of 4 words that appear\n",
        "next to each other, where $N$ is the number of 4grams (sequences of 4 words appearing one after the other) that can be found in the complete list of sentences. Examples of how these functions should operate are detailed in the code below. \n",
        "\n",
        "You can use the defined `vocab`, `vocab_itos`,\n",
        "and `vocab_stoi` in your code."
      ]
    },
    {
      "cell_type": "code",
      "metadata": {
        "id": "IUZsxdHk6X5w"
      },
      "source": [
        "from pyparsing.core import WordEnd\n",
        "# A list of all the words in the data set. We will assign a unique \n",
        "# identifier for each of these words.\n",
        "vocab = sorted(list(set([w for s in train for w in s])))\n",
        "# A mapping of index => word (string)\n",
        "vocab_itos = dict(enumerate(vocab))\n",
        "# A mapping of word => its index\n",
        "vocab_stoi = {word:index for index, word in vocab_itos.items()}\n",
        "\n",
        "def convert_words_to_indices(sents):\n",
        "    \"\"\"\n",
        "    This function takes a list of sentences (list of list of words)\n",
        "    and returns a new list with the same structure, but where each word\n",
        "    is replaced by its index in `vocab_stoi`.\n",
        "\n",
        "    Example:\n",
        "    >>> convert_words_to_indices([['one', 'in', 'five', 'are', 'over', 'here'], ['other', 'one', 'since', 'yesterday'], ['you']])\n",
        "    [[148, 98, 70, 23, 154, 89], [151, 148, 181, 246], [248]]\n",
        "    \"\"\"\n",
        "\n",
        "    # Write your code here\n",
        "    indices_list = sents.copy()\n",
        "    for i,sen in enumerate(sents):\n",
        "      for j, word in enumerate(sen):\n",
        "        indices_list[i][j] = vocab_stoi[word]\n",
        "    return indices_list\n",
        "\n",
        "\n",
        "def generate_4grams(seqs):\n",
        "    \"\"\"\n",
        "    This function takes a list of sentences (list of lists) and returns\n",
        "    a new list containing the 4-grams (four consequentively occuring words)\n",
        "    that appear in the sentences. Note that a unique 4-gram can appear multiple\n",
        "    times, one per each time that the 4-gram appears in the data parameter `seqs`.\n",
        "\n",
        "    Example:\n",
        "\n",
        "    >>> generate_4grams([[148, 98, 70, 23, 154, 89], [151, 148, 181, 246], [248]])\n",
        "    [[148, 98, 70, 23], [98, 70, 23, 154], [70, 23, 154, 89], [151, 148, 181, 246]]\n",
        "    >>> generate_4grams([[1, 1, 1, 1, 1]])\n",
        "    [[1, 1, 1, 1], [1, 1, 1, 1]]\n",
        "    \"\"\"\n",
        "\n",
        "    # Write your code here\n",
        "    _4gram_list = []\n",
        "    for seq in seqs:\n",
        "      if len(seq) < 4:\n",
        "        continue\n",
        "      else:\n",
        "        pointer = 4\n",
        "        while pointer<=len(seq):\n",
        "          _4gram_list += [seq[pointer-4:pointer]]\n",
        "          pointer += 1\n",
        "    return _4gram_list\n",
        "\n",
        "def process_data(sents):\n",
        "    \"\"\"\n",
        "    This function takes a list of sentences (list of lists), and generates an\n",
        "    numpy matrix with shape [N, 4] containing indices of words in 4-grams.\n",
        "    \"\"\"\n",
        "    indices = convert_words_to_indices(sents)\n",
        "    fourgrams = generate_4grams(indices)\n",
        "    return np.array(fourgrams)\n",
        "\n",
        "# We can now generate our data which will be used to train and test the network\n",
        "train4grams = process_data(train)\n",
        "valid4grams = process_data(valid)\n",
        "test4grams = process_data(test)"
      ],
      "execution_count": null,
      "outputs": []
    },
    {
      "cell_type": "markdown",
      "metadata": {
        "id": "3Rv-6sNm6X5x"
      },
      "source": [
        "## Question 2. A Multi-Layer Perceptron (44%)\n",
        "\n",
        "In this section, we will build a two-layer multi-layer perceptron. \n",
        "Our model will look like this:\n",
        "\n",
        "<img src=\"https://drive.google.com/uc?id=15uMLB-YsMHSOr0EQfTRhWd4o9enIOjUe\">\n",
        "\n",
        "Since the sentences in the data are comprised of $250$ distinct words, our task boils down to claissfication where the label space $\\mathcal{S}$ is of cardinality $|\\mathcal{S}|=250$ while our input, which is comprised of a combination of three words, is treated as a vector of size $750\\times 1$ (i.e., the concatanation of three one-hot $250\\times 1$ vectors).\n",
        "\n",
        "The following function `get_batch` will take as input the whole dataset and output a single batch for the training. The output size of the batch is explained below.\n",
        "\n",
        "**Implement** yourself a function `make_onehot` which takes the data in index notation and output it in a onehot notation.\n",
        "\n",
        "Start by reviewing the helper function, which is given to you:"
      ]
    },
    {
      "cell_type": "code",
      "metadata": {
        "id": "ZsqTLOoJ6X5x"
      },
      "source": [
        "def make_onehot(data):\n",
        "    \"\"\"\n",
        "    Convert one batch of data in the index notation into its corresponding onehot\n",
        "    notation. Remember, the function should work for both xt and st. \n",
        "     \n",
        "    input - vector with shape D (1D or 2D)\n",
        "    output - vector with shape (D,250)\n",
        "    \"\"\"\n",
        "    \n",
        "    # Write your code here\n",
        "    base = np.eye(250)    # create an 250*250 identity matrix. we will generate onehot from here\n",
        "    out = np.stack([base[word] for word in data])\n",
        "    return out\n",
        "\n",
        "def get_batch(data, range_min, range_max, onehot=True):\n",
        "    \"\"\"\n",
        "    Convert one batch of data in the form of 4-grams into input and output\n",
        "    data and return the training data (xt, st) where:\n",
        "     - `xt` is an numpy array of one-hot vectors of shape [batch_size, 3, 250]\n",
        "     - `st` is either\n",
        "            - a numpy array of shape [batch_size, 250] if onehot is True,\n",
        "            - a numpy array of shape [batch_size] containing indicies otherwise\n",
        "\n",
        "    Preconditions:\n",
        "     - `data` is a numpy array of shape [N, 4] produced by a call\n",
        "        to `process_data`\n",
        "     - range_max > range_min\n",
        "    \"\"\"\n",
        "    xt = data[range_min:range_max, :3]\n",
        "    xt = make_onehot(xt)\n",
        "    st = data[range_min:range_max, 3]\n",
        "    if onehot:\n",
        "        st = make_onehot(st).reshape(-1, 250)\n",
        "    return xt, st\n"
      ],
      "execution_count": null,
      "outputs": []
    },
    {
      "cell_type": "markdown",
      "metadata": {
        "id": "qvLuZpH-6X52"
      },
      "source": [
        "### Part (a) -- 8%\n",
        "\n",
        "We build the model in PyTorch. Since PyTorch uses automatic\n",
        "differentiation, we only need to write the *forward pass* of our\n",
        "model. \n",
        "\n",
        "**Complete** the `forward` function below:"
      ]
    },
    {
      "cell_type": "code",
      "metadata": {
        "id": "iMzWMUB16X52"
      },
      "source": [
        "class PyTorchMLP(nn.Module):\n",
        "    def __init__(self, num_hidden=400):\n",
        "        super(PyTorchMLP, self).__init__()\n",
        "        self.layer1 = nn.Linear(750, num_hidden)\n",
        "        self.layer2 = nn.Linear(num_hidden, 250)\n",
        "        self.num_hidden = num_hidden\n",
        "    def forward(self, inp):\n",
        "        inp = inp.reshape([-1, 750])\n",
        "        # TODO: complete this function \n",
        "        # Note that we will be using the nn.CrossEntropyLoss(), which computes the softmax operation internally, as loss criterion\n",
        "\n",
        "        first_layer = self.layer1(inp)\n",
        "        second_layer = self.layer2(first_layer)\n",
        "\n",
        "        return second_layer"
      ],
      "execution_count": null,
      "outputs": []
    },
    {
      "cell_type": "markdown",
      "metadata": {
        "id": "114NF7If6X52"
      },
      "source": [
        "### Part (b) -- 10%\n",
        "\n",
        "We next  train the PyTorch model using the Adam optimizer and the cross entropy loss.\n",
        "\n",
        "**Complete** the function `run_pytorch_gradient_descent`, and use it to train your PyTorch MLP model.\n",
        "\n",
        "**Obtain** a training accuracy of at least 35% while changing only the hyperparameters of the train function.\n",
        "\n",
        "Plot the learning curve using the `plot_learning_curve` function provided\n",
        "to you, and include your plot in your PDF submission."
      ]
    },
    {
      "cell_type": "code",
      "metadata": {
        "id": "LY70vUCZ6X52"
      },
      "source": [
        "def estimate_accuracy_torch(model, data, batch_size=5000, max_N=100000):\n",
        "    \"\"\"\n",
        "    Estimate the accuracy of the model on the data. To reduce\n",
        "    computation time, use at most `max_N` elements of `data` to\n",
        "    produce the estimate.\n",
        "    \"\"\"\n",
        "    correct = 0\n",
        "    N = 0\n",
        "    for i in range(0, data.shape[0], batch_size):\n",
        "        # get a batch of data\n",
        "        xt, st = get_batch(data, i, i + batch_size, onehot=False)\n",
        "        \n",
        "        # forward pass prediction\n",
        "        y = model(torch.Tensor(xt))\n",
        "        y = y.detach().numpy() # convert the PyTorch tensor => numpy array\n",
        "        pred = np.argmax(y, axis=1)\n",
        "        correct += np.sum(pred == st)\n",
        "        N += st.shape[0]\n",
        "\n",
        "        if N > max_N:\n",
        "            break\n",
        "    return correct / N\n",
        "\n",
        "def run_pytorch_gradient_descent(model,\n",
        "                                 train_data=train4grams,\n",
        "                                 validation_data=valid4grams,\n",
        "                                 batch_size=100,\n",
        "                                 learning_rate=0.001,\n",
        "                                 weight_decay=0,\n",
        "                                 max_iters=1000,\n",
        "                                 checkpoint_path=None):\n",
        "    \"\"\"\n",
        "    Train the PyTorch model on the dataset `train_data`, reporting\n",
        "    the validation accuracy on `validation_data`, for `max_iters`\n",
        "    iteration.\n",
        "\n",
        "    If you want to **checkpoint** your model weights (i.e. save the\n",
        "    model weights to Google Drive), then the parameter\n",
        "    `checkpoint_path` should be a string path with `{}` to be replaced\n",
        "    by the iteration count:\n",
        "\n",
        "    For example, calling \n",
        "\n",
        "    >>> run_pytorch_gradient_descent(model, ...,\n",
        "            checkpoint_path = '/content/gdrive/My Drive/Intro_to_Deep_Learning/mlp/ckpt-{}.pk')\n",
        "\n",
        "    will save the model parameters in Google Drive every 500 iterations.\n",
        "    You will have to make sure that the path exists (i.e. you'll need to create\n",
        "    the folder Intro_to_Deep_Learning, mlp, etc...). Your Google Drive will be populated with files:\n",
        "\n",
        "    - /content/gdrive/My Drive/Intro_to_Deep_Learning/mlp/ckpt-500.pk\n",
        "    - /content/gdrive/My Drive/Intro_to_Deep_Learning/mlp/ckpt-1000.pk\n",
        "    - ...\n",
        "\n",
        "    To load the weights at a later time, you can run:\n",
        "\n",
        "    >>> model.load_state_dict(torch.load('/content/gdrive/My Drive/Intro_to_Deep_Learning/mlp/ckpt-500.pk'))\n",
        "\n",
        "    This function returns the training loss, and the training/validation accuracy,\n",
        "    which we can use to plot the learning curve.\n",
        "    \"\"\"\n",
        "    criterion = nn.CrossEntropyLoss()\n",
        "    optimizer = optim.Adam(model.parameters(),\n",
        "                           lr=learning_rate,\n",
        "                           weight_decay=weight_decay)\n",
        "\n",
        "    iters, losses = [], []\n",
        "    iters_sub, train_accs, val_accs  = [], [] ,[]\n",
        "\n",
        "    n = 0 # the number of iterations\n",
        "    while True:\n",
        "        for i in range(0, train_data.shape[0], batch_size):\n",
        "            if (i + batch_size) > train_data.shape[0]:\n",
        "                break\n",
        "\n",
        "            # get the input and targets of a minibatch\n",
        "            xt, st = get_batch(train_data, i, i + batch_size, onehot=False)\n",
        "\n",
        "            # convert from numpy arrays to PyTorch tensors\n",
        "            xt = torch.Tensor(xt)\n",
        "            st = torch.Tensor(st).long()\n",
        "\n",
        "            zs = model(xt)                 # compute prediction logit\n",
        "            loss = criterion(zs, st)       # compute the total loss\n",
        "            optimizer.zero_grad()          # compute updates for each parameter\n",
        "            loss.backward()                # make the updates for each parameter\n",
        "            optimizer.step()               # a clean up step for PyTorch\n",
        "\n",
        "            # save the current training information\n",
        "            iters.append(n)\n",
        "            losses.append(float(loss)/batch_size)  # compute *average* loss\n",
        "\n",
        "            if n % 500 == 0:\n",
        "                iters_sub.append(n)\n",
        "                train_cost = float(loss.detach().numpy())\n",
        "                train_acc = estimate_accuracy_torch(model, train_data)\n",
        "                train_accs.append(train_acc)\n",
        "                val_acc = estimate_accuracy_torch(model, validation_data)\n",
        "                val_accs.append(val_acc)\n",
        "                print(\"Iter %d. [Val Acc %.0f%%] [Train Acc %.0f%%, Loss %f]\" % (\n",
        "                      n, val_acc * 100, train_acc * 100, train_cost))\n",
        "\n",
        "                if (checkpoint_path is not None) and n > 0:\n",
        "                    torch.save(model.state_dict(), checkpoint_path.format(n))\n",
        "\n",
        "            # increment the iteration number\n",
        "            n += 1\n",
        "\n",
        "            if n > max_iters:\n",
        "                return iters, losses, iters_sub, train_accs, val_accs\n",
        "\n",
        "\n",
        "def plot_learning_curve(iters, losses, iters_sub, train_accs, val_accs):\n",
        "    \"\"\"\n",
        "    Plot the learning curve.\n",
        "    \"\"\"\n",
        "    plt.title(\"Learning Curve: Loss per Iteration\")\n",
        "    plt.plot(iters, losses, label=\"Train\")\n",
        "    plt.xlabel(\"Iterations\")\n",
        "    plt.ylabel(\"Loss\")\n",
        "    plt.show()\n",
        "\n",
        "    plt.title(\"Learning Curve: Accuracy per Iteration\")\n",
        "    plt.plot(iters_sub, train_accs, label=\"Train\")\n",
        "    plt.plot(iters_sub, val_accs, label=\"Validation\")\n",
        "    plt.xlabel(\"Iterations\")\n",
        "    plt.ylabel(\"Accuracy\")\n",
        "    plt.legend(loc='best')\n",
        "    plt.show()"
      ],
      "execution_count": null,
      "outputs": []
    },
    {
      "cell_type": "code",
      "metadata": {
        "id": "DXBq-1F86X52",
        "colab": {
          "base_uri": "https://localhost:8080/",
          "height": 1146
        },
        "outputId": "a1441ddb-66a2-4f4a-ee62-bf40d016550e"
      },
      "source": [
        "# see which rate is best between [0.0001, 0.001, 0.01, 0.1], and use this rate\n",
        "\n",
        "max_acc = 0\n",
        "learning_rates = [0.0001, 0.001, 0.01, 0.1]\n",
        "for rate in learning_rates:\n",
        "   print(f\"This is the information for learning rate {rate}:\")\n",
        "   pytorch_mlp_temp = PyTorchMLP()\n",
        "   iters, losses, iters_sub, train_accs, val_accs = run_pytorch_gradient_descent(pytorch_mlp_temp,\n",
        "                                                     batch_size=256,learning_rate=rate,\n",
        "                                                     weight_decay=0, max_iters=3000)\n",
        "   if train_accs[-1] > max_acc:\n",
        "     best_rate = rate\n",
        "     max_acc = train_accs[-1]\n",
        "     pytorch_mlp = pytorch_mlp_temp\n",
        "     learning_curve_info = iters, losses, iters_sub, train_accs, val_accs\n",
        "\n",
        "print(f\"Plot for learning rate {best_rate}, with maximus accuracy of {max_acc:.2f}.\")\n",
        "plot_learning_curve(*learning_curve_info)"
      ],
      "execution_count": null,
      "outputs": [
        {
          "output_type": "stream",
          "name": "stdout",
          "text": [
            "This is the information for learning rate 0.0001:\n",
            "Iter 0. [Val Acc 2%] [Train Acc 2%, Loss 5.511062]\n",
            "Iter 500. [Val Acc 18%] [Train Acc 19%, Loss 4.208350]\n",
            "Iter 1000. [Val Acc 23%] [Train Acc 24%, Loss 4.011002]\n",
            "Iter 1500. [Val Acc 26%] [Train Acc 27%, Loss 3.672452]\n",
            "Iter 2000. [Val Acc 28%] [Train Acc 28%, Loss 3.264605]\n",
            "Iter 2500. [Val Acc 29%] [Train Acc 30%, Loss 3.163743]\n",
            "Iter 3000. [Val Acc 30%] [Train Acc 30%, Loss 3.227946]\n",
            "This is the information for learning rate 0.001:\n",
            "Iter 0. [Val Acc 1%] [Train Acc 1%, Loss 5.531754]\n",
            "Iter 500. [Val Acc 31%] [Train Acc 32%, Loss 2.968134]\n",
            "Iter 1000. [Val Acc 33%] [Train Acc 34%, Loss 3.099179]\n",
            "Iter 1500. [Val Acc 33%] [Train Acc 34%, Loss 2.760988]\n",
            "Iter 2000. [Val Acc 34%] [Train Acc 35%, Loss 2.723919]\n",
            "Iter 2500. [Val Acc 34%] [Train Acc 35%, Loss 2.680916]\n",
            "Iter 3000. [Val Acc 34%] [Train Acc 36%, Loss 2.846323]\n",
            "This is the information for learning rate 0.01:\n",
            "Iter 0. [Val Acc 17%] [Train Acc 18%, Loss 5.518847]\n",
            "Iter 500. [Val Acc 30%] [Train Acc 31%, Loss 3.164366]\n",
            "Iter 1000. [Val Acc 30%] [Train Acc 31%, Loss 3.300217]\n",
            "Iter 1500. [Val Acc 30%] [Train Acc 32%, Loss 2.971757]\n",
            "Iter 2000. [Val Acc 31%] [Train Acc 32%, Loss 2.868073]\n",
            "Iter 2500. [Val Acc 31%] [Train Acc 31%, Loss 2.901245]\n",
            "Iter 3000. [Val Acc 31%] [Train Acc 33%, Loss 3.054958]\n",
            "This is the information for learning rate 0.1:\n",
            "Iter 0. [Val Acc 19%] [Train Acc 19%, Loss 5.524472]\n",
            "Iter 500. [Val Acc 17%] [Train Acc 17%, Loss 15.559907]\n",
            "Iter 1000. [Val Acc 16%] [Train Acc 17%, Loss 17.489374]\n",
            "Iter 1500. [Val Acc 16%] [Train Acc 17%, Loss 17.116291]\n",
            "Iter 2000. [Val Acc 17%] [Train Acc 17%, Loss 16.755619]\n",
            "Iter 2500. [Val Acc 17%] [Train Acc 17%, Loss 13.363822]\n",
            "Iter 3000. [Val Acc 15%] [Train Acc 16%, Loss 14.480177]\n",
            "Plot for learning rate 0.001, with maximus accuracy of 0.35.\n"
          ]
        },
        {
          "output_type": "display_data",
          "data": {
            "text/plain": [
              "<Figure size 432x288 with 1 Axes>"
            ],
            "image/png": "[encoded data removed]"
          },
          "metadata": {
            "needs_background": "light"
          }
        },
        {
          "output_type": "display_data",
          "data": {
            "text/plain": [
              "<Figure size 432x288 with 1 Axes>"
            ],
            "image/png": "[encoded data removed]"
          },
          "metadata": {
            "needs_background": "light"
          }
        }
      ]
    },
    {
      "cell_type": "markdown",
      "metadata": {
        "id": "xcXqpx0v6X52"
      },
      "source": [
        "### Part (c) -- 10%\n",
        "**Write** a function `make_prediction` that takes as parameters\n",
        "a PyTorchMLP model and sentence (a list of words), and produces\n",
        "a prediction for the next word in the sentence.\n",
        " "
      ]
    },
    {
      "cell_type": "code",
      "metadata": {
        "id": "O2jOK7B26X52"
      },
      "source": [
        "def make_prediction_torch(model, sentence):\n",
        "    \"\"\"\n",
        "    Use the model to make a prediction for the next word in the\n",
        "    sentence using the last 3 words (sentence[:-3]). You may assume\n",
        "    that len(sentence) >= 3 and that `model` is an instance of\n",
        "    PYTorchMLP.\n",
        "\n",
        "    This function should return the next word, represented as a string.\n",
        "\n",
        "    Example call:\n",
        "    >>> make_prediction_torch(pytorch_mlp, ['you', 'are', 'a'])\n",
        "    \"\"\"\n",
        "    global vocab_stoi, vocab_itos\n",
        "\n",
        "    #  Write your code here\n",
        "    sentence = [sentence[-3:] + ['?'] ]\n",
        "    sentence_input = make_onehot((process_data(sentence))[:,:3])\n",
        "\n",
        "    output = model(torch.Tensor(sentence_input))\n",
        "    output = output.detach().numpy()\n",
        "    \n",
        "    return vocab_itos[np.argmax(output, axis=1)[0]]"
      ],
      "execution_count": null,
      "outputs": []
    },
    {
      "cell_type": "markdown",
      "metadata": {
        "id": "mHvIKjYg6X53"
      },
      "source": [
        "### Part (d) -- 10%\n",
        "\n",
        "Use your code to predict what the next word should be in each\n",
        "of the following sentences:\n",
        "\n",
        "- \"You are a\"\n",
        "- \"few companies show\"\n",
        "- \"There are no\"\n",
        "- \"yesterday i was\"\n",
        "- \"the game had\"\n",
        "- \"yesterday the federal\"\n",
        "\n",
        "Do your predictions make sense?\n",
        "\n",
        "In many cases where you overfit the model can either output the same results for all inputs or just memorize the dataset. \n",
        "\n",
        "**Print** the output for all of these sentences and \n",
        "**Write** below if you encounter these effects or something else which indicates overfitting, if you do train again with better hyperparameters.\n",
        "\n",
        "\n"
      ]
    },
    {
      "cell_type": "code",
      "metadata": {
        "id": "kdzhshY56X53",
        "colab": {
          "base_uri": "https://localhost:8080/"
        },
        "outputId": "7bc4690a-c525-494b-b392-bdc95db93f85"
      },
      "source": [
        "# Write your code here\n",
        "\n",
        "def next_word(model, sentences):\n",
        "  print(\"Our predictions are:\")\n",
        "  for sentence in sentences:\n",
        "    words = sentence.split() \n",
        "    words = [word.lower() for word in words]\n",
        "    next = make_prediction_torch(model, words)\n",
        "    print(f\"'{sentence}'  ->  '{next}'\")\n",
        "\n",
        "sentences = [\"You are a\", \"few companies show\", \"There are no\", \"yesterday i was\", \"the game had\", \"yesterday the federal\"]\n",
        "next_word(pytorch_mlp, sentences)"
      ],
      "execution_count": null,
      "outputs": [
        {
          "output_type": "stream",
          "name": "stdout",
          "text": [
            "Our predictions are:\n",
            "'You are a'  ->  'good'\n",
            "'few companies show'  ->  '.'\n",
            "'There are no'  ->  'more'\n",
            "'yesterday i was'  ->  'nt'\n",
            "'the game had'  ->  'to'\n",
            "'yesterday the federal'  ->  'government'\n"
          ]
        }
      ]
    },
    {
      "cell_type": "markdown",
      "metadata": {
        "id": "mTfh4MwjAlGB"
      },
      "source": [
        "**Write your answers here:**\n",
        "\n",
        "Most of our predictions make sense. In fact, the only sentence that shows bad results is \"Few companies show.\".\n",
        " The dot resembles sentences from the dataset like \"This was a show.\", which is of course a different meaning of the word \"show\".\n",
        " \n",
        "Some bad results were expected, since we have accuracy of 36% when training the model.\n",
        "\n",
        "In addition, we went through the raw data and found only \"You are a good\" appear in the actual sentences. This alone could have ment we're overfitting, but combined with the other results (which do not match the dataset) and noting that we output different results for each sentence, we do not see signs of overfitting.\n",
        "\n",
        "Despite the above, we should consider that in the English language some words apear more than others. Therefore, the dataset used is not a balanced one and some word may have a higher chance of being predicted.\n"
      ]
    },
    {
      "cell_type": "markdown",
      "metadata": {
        "id": "F4QBM0fo6X53"
      },
      "source": [
        "### Part (e) -- 6%\n",
        "\n",
        "Report the test accuracy of your model"
      ]
    },
    {
      "cell_type": "code",
      "metadata": {
        "id": "Sq31oqDR6X53",
        "colab": {
          "base_uri": "https://localhost:8080/"
        },
        "outputId": "06f05801-dded-43a1-edcb-46140beeb95c"
      },
      "source": [
        "# Write your code here\n",
        "test_accuracy = estimate_accuracy_torch(pytorch_mlp, test4grams)\n",
        "\n",
        "print(f\"The test accuracy is: {(test_accuracy*100):.2f} %\")"
      ],
      "execution_count": null,
      "outputs": [
        {
          "output_type": "stream",
          "name": "stdout",
          "text": [
            "The test accuracy is: 34.22 %\n"
          ]
        }
      ]
    },
    {
      "cell_type": "markdown",
      "metadata": {
        "id": "Xlr7C8yg6X53"
      },
      "source": [
        "## Question 3. Learning Word Embeddings (24 %)\n",
        "\n",
        "In this section, we will build a slightly different model with a different\n",
        "architecture. In particular, we will first compute a lower-dimensional\n",
        "*representation* of the three words, before using a multi-layer perceptron.\n",
        "\n",
        "Our model will look like this:\n",
        "\n",
        "<img src=\"https://drive.google.com/uc?id=16lXygLTSuRgOCj6UWK0vHkSoyRJWfMSZ\" />\n",
        " \n",
        "\n",
        "This model has 3 layers instead of 2, but the first layer of the network\n",
        "is **not** fully-connected. Instead, we compute the representations of each\n",
        "of the three words **separately**. In addition, the first layer of the network\n",
        "will not use any biases. The reason for this will be clear in question 4.\n",
        " "
      ]
    },
    {
      "cell_type": "markdown",
      "metadata": {
        "id": "i0td55ll6X54"
      },
      "source": [
        "### Part (a) -- 10%\n",
        "\n",
        "The PyTorch model is implemented for you. Use \n",
        "`run_pytorch_gradient_descent` to train\n",
        "your PyTorch MLP model to obtain a training accuracy of at least 38%.\n",
        "Plot the learning curve using the `plot_learning_curve` function provided\n",
        "to you, and include your plot in your PDF submission.\n"
      ]
    },
    {
      "cell_type": "code",
      "metadata": {
        "id": "HqWlfclh6X54",
        "colab": {
          "base_uri": "https://localhost:8080/",
          "height": 1285
        },
        "outputId": "fd642a41-f8ef-4cc7-8814-5253c7f7eeaa"
      },
      "source": [
        "class PyTorchWordEmb(nn.Module):\n",
        "    def __init__(self, emb_size=100, num_hidden=300, vocab_size=250):\n",
        "        super(PyTorchWordEmb, self).__init__()\n",
        "        self.word_emb_layer = nn.Linear(vocab_size, emb_size, bias=False)\n",
        "        self.fc_layer1 = nn.Linear(emb_size * 3, num_hidden)\n",
        "        self.fc_layer2 = nn.Linear(num_hidden, 250)\n",
        "        self.num_hidden = num_hidden\n",
        "        self.emb_size = emb_size\n",
        "    def forward(self, inp):\n",
        "        embeddings = torch.relu(self.word_emb_layer(inp))\n",
        "        embeddings = embeddings.reshape([-1, self.emb_size * 3])\n",
        "        hidden = torch.relu(self.fc_layer1(embeddings))\n",
        "        return self.fc_layer2(hidden)\n",
        "\n",
        "pytorch_wordemb = PyTorchWordEmb()\n",
        "\n",
        "result = run_pytorch_gradient_descent(pytorch_wordemb, max_iters=20000,batch_size=256)\n",
        "\n",
        "# plot_learning_curve(*result)"
      ],
      "execution_count": null,
      "outputs": [
        {
          "output_type": "stream",
          "name": "stdout",
          "text": [
            "Iter 0. [Val Acc 2%] [Train Acc 2%, Loss 5.528602]\n",
            "Iter 500. [Val Acc 28%] [Train Acc 28%, Loss 3.228059]\n",
            "Iter 1000. [Val Acc 31%] [Train Acc 32%, Loss 3.256534]\n",
            "Iter 1500. [Val Acc 32%] [Train Acc 33%, Loss 2.976914]\n",
            "Iter 2000. [Val Acc 33%] [Train Acc 34%, Loss 2.820710]\n",
            "Iter 2500. [Val Acc 34%] [Train Acc 35%, Loss 2.752198]\n",
            "Iter 3000. [Val Acc 34%] [Train Acc 35%, Loss 2.872323]\n",
            "Iter 3500. [Val Acc 35%] [Train Acc 36%, Loss 2.520480]\n",
            "Iter 4000. [Val Acc 35%] [Train Acc 36%, Loss 2.780762]\n",
            "Iter 4500. [Val Acc 35%] [Train Acc 37%, Loss 2.548871]\n",
            "Iter 5000. [Val Acc 36%] [Train Acc 37%, Loss 2.505401]\n",
            "Iter 5500. [Val Acc 36%] [Train Acc 37%, Loss 2.575140]\n",
            "Iter 6000. [Val Acc 36%] [Train Acc 38%, Loss 2.685529]\n",
            "Iter 6500. [Val Acc 36%] [Train Acc 38%, Loss 2.431973]\n",
            "Iter 7000. [Val Acc 37%] [Train Acc 38%, Loss 2.533333]\n",
            "Iter 7500. [Val Acc 37%] [Train Acc 39%, Loss 2.708552]\n",
            "Iter 8000. [Val Acc 37%] [Train Acc 39%, Loss 2.379351]\n",
            "Iter 8500. [Val Acc 37%] [Train Acc 38%, Loss 2.443505]\n",
            "Iter 9000. [Val Acc 37%] [Train Acc 39%, Loss 2.511275]\n",
            "Iter 9500. [Val Acc 37%] [Train Acc 39%, Loss 2.291260]\n",
            "Iter 10000. [Val Acc 37%] [Train Acc 39%, Loss 2.370033]\n",
            "Iter 10500. [Val Acc 37%] [Train Acc 40%, Loss 2.270216]\n",
            "Iter 11000. [Val Acc 37%] [Train Acc 39%, Loss 2.330172]\n",
            "Iter 11500. [Val Acc 37%] [Train Acc 39%, Loss 2.416735]\n",
            "Iter 12000. [Val Acc 37%] [Train Acc 40%, Loss 2.494140]\n",
            "Iter 12500. [Val Acc 37%] [Train Acc 39%, Loss 2.495757]\n",
            "Iter 13000. [Val Acc 37%] [Train Acc 39%, Loss 2.259490]\n",
            "Iter 13500. [Val Acc 37%] [Train Acc 40%, Loss 2.292390]\n",
            "Iter 14000. [Val Acc 38%] [Train Acc 40%, Loss 2.438367]\n",
            "Iter 14500. [Val Acc 37%] [Train Acc 40%, Loss 2.324364]\n",
            "Iter 15000. [Val Acc 38%] [Train Acc 40%, Loss 2.291252]\n",
            "Iter 15500. [Val Acc 38%] [Train Acc 40%, Loss 2.448252]\n",
            "Iter 16000. [Val Acc 38%] [Train Acc 41%, Loss 2.403137]\n",
            "Iter 16500. [Val Acc 38%] [Train Acc 40%, Loss 2.368816]\n",
            "Iter 17000. [Val Acc 38%] [Train Acc 40%, Loss 2.302421]\n",
            "Iter 17500. [Val Acc 38%] [Train Acc 41%, Loss 2.197944]\n",
            "Iter 18000. [Val Acc 38%] [Train Acc 41%, Loss 2.362378]\n",
            "Iter 18500. [Val Acc 38%] [Train Acc 40%, Loss 2.371853]\n",
            "Iter 19000. [Val Acc 38%] [Train Acc 41%, Loss 2.481299]\n",
            "Iter 19500. [Val Acc 38%] [Train Acc 41%, Loss 2.430783]\n",
            "Iter 20000. [Val Acc 38%] [Train Acc 40%, Loss 2.484284]\n"
          ]
        },
        {
          "output_type": "display_data",
          "data": {
            "text/plain": [
              "<Figure size 432x288 with 1 Axes>"
            ],
            "image/png": "[encoded data removed]"
          },
          "metadata": {
            "needs_background": "light"
          }
        },
        {
          "output_type": "display_data",
          "data": {
            "text/plain": [
              "<Figure size 432x288 with 1 Axes>"
            ],
            "image/png": "[encoded data removed]"
          },
          "metadata": {
            "needs_background": "light"
          }
        }
      ]
    },
    {
      "cell_type": "code",
      "source": [
        "# adding plot for PDF saving\n",
        "plot_learning_curve(*result)"
      ],
      "metadata": {
        "colab": {
          "base_uri": "https://localhost:8080/",
          "height": 573
        },
        "id": "JGwBfEOwPsww",
        "outputId": "2ee06839-e829-4d4b-d318-3268c8de6c95"
      },
      "execution_count": null,
      "outputs": [
        {
          "output_type": "display_data",
          "data": {
            "text/plain": [
              "<Figure size 432x288 with 1 Axes>"
            ],
            "image/png": "[encoded data removed]"
          },
          "metadata": {
            "needs_background": "light"
          }
        },
        {
          "output_type": "display_data",
          "data": {
            "text/plain": [
              "<Figure size 432x288 with 1 Axes>"
            ],
            "image/png": "[encoded data removed]"
          },
          "metadata": {
            "needs_background": "light"
          }
        }
      ]
    },
    {
      "cell_type": "markdown",
      "metadata": {
        "id": "oekGJRad6X54"
      },
      "source": [
        "### Part (b) -- 10%\n",
        "\n",
        "Use the function `make_prediction` that you wrote earlier to predict what the next word should be in each of the following sentences:\n",
        "\n",
        "- \"You are a\"\n",
        "- \"few companies show\"\n",
        "- \"There are no\"\n",
        "- \"yesterday i was\"\n",
        "- \"the game had\"\n",
        "- \"yesterday the federal\"\n",
        "\n",
        "How do these predictions compared to the previous model?\n",
        "\n",
        "**Print** the output for all of these sentences using the new network and \n",
        "**Write** below how the new results compare to the previous ones.\n",
        "\n",
        "Just like before, if you encounter overfitting,\n",
        "train your model for more iterations, or change the hyperparameters in your\n",
        "model. You may need to do this even if your training accuracy is >=38%."
      ]
    },
    {
      "cell_type": "code",
      "metadata": {
        "id": "I1W2Vl3g6X54",
        "colab": {
          "base_uri": "https://localhost:8080/"
        },
        "outputId": "bc595a69-6658-4909-f7c9-25189c524803"
      },
      "source": [
        "# Your code goes here\n",
        "next_word(pytorch_wordemb, sentences)"
      ],
      "execution_count": null,
      "outputs": [
        {
          "output_type": "stream",
          "name": "stdout",
          "text": [
            "Our predictions are:\n",
            "'You are a'  ->  'good'\n",
            "'few companies show'  ->  '.'\n",
            "'There are no'  ->  'people'\n",
            "'yesterday i was'  ->  'nt'\n",
            "'the game had'  ->  'to'\n",
            "'yesterday the federal'  ->  'government'\n"
          ]
        }
      ]
    },
    {
      "cell_type": "markdown",
      "metadata": {
        "id": "uZQeQXPfGQNB"
      },
      "source": [
        "**Write your explanation here:**\n",
        "\n",
        "We see that the results produced with this model are the same as the MLP results.\n",
        "\n",
        "We will note that with the MLP model we reached a 36% accuracy, and with Word Embeddings we reached 41%, so while it is better on paper, both models are imperfect and are expected to have mistakes.\n",
        "Once again our training does not seem to overfit the dataset.\n"
      ]
    },
    {
      "cell_type": "markdown",
      "metadata": {
        "id": "g36bTOV46X54"
      },
      "source": [
        "### Part (c) -- 4%\n",
        "\n",
        "Report the test accuracy of your model"
      ]
    },
    {
      "cell_type": "code",
      "metadata": {
        "id": "qy8W6XrZ6X54",
        "colab": {
          "base_uri": "https://localhost:8080/"
        },
        "outputId": "9e4b5dc2-b2b3-40e3-911e-e0946fc30cdc"
      },
      "source": [
        "# Write your code here\n",
        "test_accuracy_wordemb = estimate_accuracy_torch(pytorch_wordemb, test4grams)\n",
        "\n",
        "print(f\"The test accuracy is: {(test_accuracy_wordemb*100):.2f} %\")"
      ],
      "execution_count": null,
      "outputs": [
        {
          "output_type": "stream",
          "name": "stdout",
          "text": [
            "The test accuracy is: 38.27 %\n"
          ]
        }
      ]
    },
    {
      "cell_type": "markdown",
      "metadata": {
        "id": "J1fyrlDz6X55"
      },
      "source": [
        "## Question 4. Visualizing Word Embeddings (14%)\n",
        "\n",
        "While training the `PyTorchMLP`, we trained the `word_emb_layer`, which takes a one-hot\n",
        "representation of a word in our vocabulary, and returns a low-dimensional vector\n",
        "representation of that word. In this question, we will explore these word embeddings, which are a key concept in natural language processing.\n",
        "\n",
        "\n",
        "\n",
        "\n",
        "### Part (a) -- 4%\n",
        "\n",
        "The code below extracts the **weights** of the word embedding layer,\n",
        "and converts the PyTorch tensor into an numpy array.\n",
        "Explain why each *row* of `word_emb` contains the vector representing\n",
        "of a word. For example `word_emb[vocab_stoi[\"any\"],:]` contains the\n",
        "vector representation of the word \"any\"."
      ]
    },
    {
      "cell_type": "code",
      "metadata": {
        "id": "7IvS6JDM6X55"
      },
      "source": [
        "word_emb_weights = list(pytorch_wordemb.word_emb_layer.parameters())[0]\n",
        "word_emb = word_emb_weights.detach().numpy().T\n"
      ],
      "execution_count": null,
      "outputs": []
    },
    {
      "cell_type": "markdown",
      "metadata": {
        "id": "SF_kTjxrkonT"
      },
      "source": [
        "**Write your explanation here:**\n",
        "\n",
        "As represented in the graph for question 3, $wordRepr = weights \\cdot oneHot$,\n",
        "Where $wordRepr$ and $oneHot$ are *column vectors*. \n",
        "\n",
        "Since $oneHot$ is 1 at the requested word and 0 elsewhere, we expect each *column* of weights to represent a word.\n",
        "\n",
        "In the code line above, we see that $wordEmb = weights^T$, therefor each *row* in word_emb represents a word."
      ]
    },
    {
      "cell_type": "markdown",
      "metadata": {
        "id": "Hl-JenYz6X55"
      },
      "source": [
        "### Part (b) -- 5%\n",
        "\n",
        "One interesting thing about these word embeddings is that distances\n",
        "in these vector representations of words make some sense! To show this,\n",
        "we have provided code below that computes the *cosine similarity* of\n",
        "every pair of words in our vocabulary. This measure of similarity between vector ${\\bf v}$ and ${\\bf w}$ is defined as \n",
        "   $$d_{\\rm cos}({\\bf v},{\\bf w}) = \\frac{{\\bf v}^T{\\bf w}}{||{\\bf v}|| ||{\\bf w}||}.$$  We also pre-scale the vectors to have a unit norm, using Numpy's `norm` method."
      ]
    },
    {
      "cell_type": "code",
      "metadata": {
        "id": "MPiv3pFX6X55",
        "colab": {
          "base_uri": "https://localhost:8080/"
        },
        "outputId": "cc1136c5-a1da-47e3-9334-3c3e4a23f221"
      },
      "source": [
        "norms = np.linalg.norm(word_emb, axis=1)\n",
        "word_emb_norm = (word_emb.T / norms).T\n",
        "similarities = np.matmul(word_emb_norm, word_emb_norm.T)\n",
        "\n",
        "# Some example distances. The first one should be larger than the second\n",
        "print(similarities[vocab_stoi['any'], vocab_stoi['many']])\n",
        "print(similarities[vocab_stoi['any'], vocab_stoi['government']])"
      ],
      "execution_count": null,
      "outputs": [
        {
          "output_type": "stream",
          "name": "stdout",
          "text": [
            "0.24776883\n",
            "0.075421795\n"
          ]
        }
      ]
    },
    {
      "cell_type": "markdown",
      "metadata": {
        "id": "1ctM-Mgr6X55"
      },
      "source": [
        "Compute the 5 closest words to the following words:\n",
        "\n",
        "- \"four\"\n",
        "- \"go\"\n",
        "- \"what\"\n",
        "- \"should\"\n",
        "- \"school\"\n",
        "- \"your\"\n",
        "- \"yesterday\"\n",
        "- \"not\""
      ]
    },
    {
      "cell_type": "code",
      "metadata": {
        "id": "66NCoAE26X55",
        "colab": {
          "base_uri": "https://localhost:8080/"
        },
        "outputId": "f9210f96-8da6-40fa-87b5-5f4d9f76c76e"
      },
      "source": [
        "# Write your code here\n",
        "\n",
        "words_list = [\"four\", \"go\", \"what\", \"should\", \"school\", \"your\", \"yesterday\", \"not\"]\n",
        "\n",
        "for word in words_list:\n",
        "  # word_ind = vocab_stoi[word]\n",
        "  distances = similarities[vocab_stoi[word], :]\n",
        "  closest_words = distances.argsort()[-6:-1][::-1]\n",
        "  print(\"\\nThe 5 closest words to \\\"{0}\\\" are:\\n\".format(word))\n",
        "  for i, closest_word_index in enumerate(closest_words):\n",
        "    print(\"{0}) \\\"{1}\\\" with similarity of {2:.4f}\".format(str(i+1), vocab_itos[closest_word_index], distances[closest_word_index]))"
      ],
      "execution_count": null,
      "outputs": [
        {
          "output_type": "stream",
          "name": "stdout",
          "text": [
            "\n",
            "The 5 closest words to \"four\" are:\n",
            "\n",
            "1) \"three\" with similarity of 0.6413\n",
            "2) \"two\" with similarity of 0.5390\n",
            "3) \"many\" with similarity of 0.4937\n",
            "4) \"few\" with similarity of 0.3274\n",
            "5) \"office\" with similarity of 0.2861\n",
            "\n",
            "The 5 closest words to \"go\" are:\n",
            "\n",
            "1) \"going\" with similarity of 0.5233\n",
            "2) \"back\" with similarity of 0.4410\n",
            "3) \"come\" with similarity of 0.4326\n",
            "4) \"right\" with similarity of 0.3775\n",
            "5) \"down\" with similarity of 0.3315\n",
            "\n",
            "The 5 closest words to \"what\" are:\n",
            "\n",
            "1) \"how\" with similarity of 0.4273\n",
            "2) \"where\" with similarity of 0.4130\n",
            "3) \"who\" with similarity of 0.3691\n",
            "4) \"which\" with similarity of 0.3621\n",
            "5) \"when\" with similarity of 0.3538\n",
            "\n",
            "The 5 closest words to \"should\" are:\n",
            "\n",
            "1) \"could\" with similarity of 0.5471\n",
            "2) \"would\" with similarity of 0.5056\n",
            "3) \"can\" with similarity of 0.4666\n",
            "4) \"will\" with similarity of 0.4468\n",
            "5) \"ago\" with similarity of 0.3456\n",
            "\n",
            "The 5 closest words to \"school\" are:\n",
            "\n",
            "1) \"week\" with similarity of 0.3908\n",
            "2) \"office\" with similarity of 0.3897\n",
            "3) \"market\" with similarity of 0.3820\n",
            "4) \"her\" with similarity of 0.3765\n",
            "5) \"this\" with similarity of 0.3645\n",
            "\n",
            "The 5 closest words to \"your\" are:\n",
            "\n",
            "1) \"his\" with similarity of 0.6218\n",
            "2) \"our\" with similarity of 0.5577\n",
            "3) \"mr.\" with similarity of 0.4017\n",
            "4) \"her\" with similarity of 0.3917\n",
            "5) \"the\" with similarity of 0.3372\n",
            "\n",
            "The 5 closest words to \"yesterday\" are:\n",
            "\n",
            "1) \"times\" with similarity of 0.5218\n",
            "2) \"today\" with similarity of 0.4905\n",
            "3) \"street\" with similarity of 0.3774\n",
            "4) \"ago\" with similarity of 0.3629\n",
            "5) \"night\" with similarity of 0.3591\n",
            "\n",
            "The 5 closest words to \"not\" are:\n",
            "\n",
            "1) \"nt\" with similarity of 0.4575\n",
            "2) \"never\" with similarity of 0.4336\n",
            "3) \"national\" with similarity of 0.3725\n",
            "4) \"even\" with similarity of 0.3528\n",
            "5) \"office\" with similarity of 0.3442\n"
          ]
        }
      ]
    },
    {
      "cell_type": "markdown",
      "metadata": {
        "id": "JJAOG_pg6X55"
      },
      "source": [
        "### Part (c) -- 5%\n",
        "\n",
        "We can visualize the word embeddings by reducing the dimensionality of\n",
        "the word vectors to 2D. There are many dimensionality reduction techniques\n",
        "that we could use, and we will use an algorithm called t-SNE.\n",
        "(You don’t need to know what this is for the assignment; we will cover it later in the course.)\n",
        "Nearby points in this 2-D space are meant to correspond to nearby points\n",
        "in the original, high-dimensional space.\n",
        "\n",
        "The following code runs the t-SNE algorithm and plots the result.\n",
        "\n",
        "Look at the plot and find at least two clusters of related words.\n",
        "\n",
        "**Write** below for each cluster what is the commonality (if there is any) and if they make sense.\n",
        "\n",
        "Note that there is randomness in the initialization of the t-SNE \n",
        "algorithm. If you re-run this code, you may get a different image.\n",
        "Please make sure to submit your image in the PDF file."
      ]
    },
    {
      "cell_type": "code",
      "metadata": {
        "id": "seD1PgwK6X56",
        "colab": {
          "base_uri": "https://localhost:8080/",
          "height": 689
        },
        "outputId": "60c7efde-ed4e-4308-df5c-2bc964d93265"
      },
      "source": [
        "import sklearn.manifold\n",
        "tsne = sklearn.manifold.TSNE()\n",
        "Y = tsne.fit_transform(word_emb)\n",
        "\n",
        "plt.figure(figsize=(10, 10))\n",
        "plt.xlim(Y[:,0].min(), Y[:, 0].max())\n",
        "plt.ylim(Y[:,1].min(), Y[:, 1].max())\n",
        "for i, w in enumerate(vocab):\n",
        "    plt.text(Y[i, 0], Y[i, 1], w)\n",
        "plt.show()"
      ],
      "execution_count": null,
      "outputs": [
        {
          "output_type": "stream",
          "name": "stderr",
          "text": [
            "/usr/local/lib/python3.8/dist-packages/sklearn/manifold/_t_sne.py:780: FutureWarning: The default initialization in TSNE will change from 'random' to 'pca' in 1.2.\n",
            "  warnings.warn(\n",
            "/usr/local/lib/python3.8/dist-packages/sklearn/manifold/_t_sne.py:790: FutureWarning: The default learning rate in TSNE will change from 200.0 to 'auto' in 1.2.\n",
            "  warnings.warn(\n"
          ]
        },
        {
          "output_type": "display_data",
          "data": {
            "text/plain": [
              "<Figure size 720x720 with 1 Axes>"
            ],
            "image/png": "[encoded data removed]"
          },
          "metadata": {
            "needs_background": "light"
          }
        }
      ]
    },
    {
      "cell_type": "markdown",
      "metadata": {
        "id": "rb4gbqMam8S5"
      },
      "source": [
        "**Explain and discuss your results here:**\n",
        "\n",
        "We can see clusters such as:\n",
        "\n",
        "- Might, May\n",
        "- More, less\n",
        "- Said, Say\n",
        "- Two, Three, Four, Five\n",
        "- Does, Do, Did\n",
        "- Go, Going\n",
        "- When, Where\n",
        "- Could, Should, Can\n",
        "\n",
        "These seem great, as some clusters have semantic similarities and some are of the same root."
      ]
    }
  ]
}